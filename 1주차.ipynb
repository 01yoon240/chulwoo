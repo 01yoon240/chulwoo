{
  "nbformat": 4,
  "nbformat_minor": 0,
  "metadata": {
    "colab": {
      "name": "Untitled0.ipynb",
      "provenance": [],
      "authorship_tag": "ABX9TyNWNxlPQmJe3tqXTg6BYzq6",
      "include_colab_link": true
    },
    "kernelspec": {
      "name": "python3",
      "display_name": "Python 3"
    }
  },
  "cells": [
    {
      "cell_type": "markdown",
      "metadata": {
        "id": "view-in-github",
        "colab_type": "text"
      },
      "source": [
        "<a href=\"https://colab.research.google.com/github/01yoon240/chulwoo/blob/master/Untitled0.ipynb\" target=\"_parent\"><img src=\"https://colab.research.google.com/assets/colab-badge.svg\" alt=\"Open In Colab\"/></a>"
      ]
    },
    {
      "cell_type": "markdown",
      "metadata": {
        "id": "B-Em-HnFUMQu",
        "colab_type": "text"
      },
      "source": [
        "#인공지능 사관학교 1주차 과제\n",
        "\n",
        "1. 언어\n",
        "\n",
        "  1.1[언어 인공지능1](https://translate.google.co.kr/?hl=ko)\n",
        "  <br>1.2[언어 인공지능2](https://papago.naver.com)\n",
        "\n",
        "2. 음성\n",
        "\n",
        "  2.1[음성 인공지능1](https://assistant.google.com/intl/ko_kr/)\n",
        " <br>2.2[음성 인공지능2](https://www.nugu.co.kr/service/nugu_service)\n",
        "\n",
        "3. 이미지\n",
        "\n",
        "  3.1[이미지 인공지능1](https://www.google.co.kr/imghp?hl=ko)\n",
        "<br>ㄴ구글 이미지 검색\n",
        "\n",
        "4. 자율주행\n",
        "\n",
        "  4.1[구글 웨이모](https://www.autoherald.co.kr/news/photo/201812/33375_53005_1942.jpg)\n",
        "  <br>4.2[엔비디아 자율주행](https://www.nvidia.com/ko-kr/self-driving-cars/drive-platform/)\n"
      ]
    },
    {
      "cell_type": "markdown",
      "metadata": {
        "id": "NCMmEceOfEnE",
        "colab_type": "text"
      },
      "source": [
        ""
      ]
    }
  ]
}
