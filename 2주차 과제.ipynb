{
  "nbformat": 4,
  "nbformat_minor": 0,
  "metadata": {
    "colab": {
      "name": "Untitled1.ipynb",
      "provenance": [],
      "authorship_tag": "ABX9TyMUbJVIPieRQkCBFPoszacI",
      "include_colab_link": true
    },
    "kernelspec": {
      "name": "python3",
      "display_name": "Python 3"
    }
  },
  "cells": [
    {
      "cell_type": "markdown",
      "metadata": {
        "id": "view-in-github",
        "colab_type": "text"
      },
      "source": [
        "<a href=\"https://colab.research.google.com/github/01yoon240/chulwoo/blob/master/2%EC%A3%BC%EC%B0%A8%20%EA%B3%BC%EC%A0%9C.ipynb\" target=\"_parent\"><img src=\"https://colab.research.google.com/assets/colab-badge.svg\" alt=\"Open In Colab\"/></a>"
      ]
    },
    {
      "cell_type": "markdown",
      "metadata": {
        "id": "23-tMBFWqTvi",
        "colab_type": "text"
      },
      "source": [
        "# 2주차 과제\n",
        "\n"
      ]
    },
    {
      "cell_type": "markdown",
      "metadata": {
        "id": "alH_o40q8tVA",
        "colab_type": "text"
      },
      "source": [
        "## 파이썬 문제"
      ]
    },
    {
      "cell_type": "markdown",
      "metadata": {
        "id": "ujviBcho6YuJ",
        "colab_type": "text"
      },
      "source": [
        "#### 01번 문제 (Data Type)"
      ]
    },
    {
      "cell_type": "code",
      "metadata": {
        "id": "uccfwwx0xEzf",
        "colab_type": "code",
        "outputId": "73859205-64b4-41e3-c70e-36f2620b6478",
        "colab": {
          "base_uri": "https://localhost:8080/",
          "height": 68
        }
      },
      "source": [
        "a = 'str'\n",
        "b = 123\n",
        "c = True\n",
        "\n",
        "print(type(a))\n",
        "\n",
        "print(type(b))\n",
        "\n",
        "print(type(c))\n"
      ],
      "execution_count": 0,
      "outputs": [
        {
          "output_type": "stream",
          "text": [
            "<class 'str'>\n",
            "<class 'int'>\n",
            "<class 'bool'>\n"
          ],
          "name": "stdout"
        }
      ]
    },
    {
      "cell_type": "markdown",
      "metadata": {
        "id": "ZpSdJDdq0uLs",
        "colab_type": "text"
      },
      "source": [
        "#### 02번 문제 (for문)"
      ]
    },
    {
      "cell_type": "code",
      "metadata": {
        "id": "_AoW7x2z1CAU",
        "colab_type": "code",
        "colab": {}
      },
      "source": [
        "num_list = [1,2,3,4,5,6,7,8,9]\n",
        "answer = 0\n",
        "\n",
        "for i in range(1,9):\n",
        "  answer += i"
      ],
      "execution_count": 0,
      "outputs": []
    },
    {
      "cell_type": "code",
      "metadata": {
        "id": "ZI5NbuCiw6s1",
        "colab_type": "code",
        "outputId": "2b3c76ed-60a7-4da6-b1d6-3fe7315766f6",
        "colab": {
          "base_uri": "https://localhost:8080/",
          "height": 34
        }
      },
      "source": [
        "print(answer)"
      ],
      "execution_count": 0,
      "outputs": [
        {
          "output_type": "stream",
          "text": [
            "36\n"
          ],
          "name": "stdout"
        }
      ]
    },
    {
      "cell_type": "markdown",
      "metadata": {
        "id": "D7D4SqWWBxte",
        "colab_type": "text"
      },
      "source": [
        "#### 03번 문제 (slice string)"
      ]
    },
    {
      "cell_type": "code",
      "metadata": {
        "id": "Dt0dedmiB4af",
        "colab_type": "code",
        "outputId": "e5237a0a-b47b-411e-f829-dc55206b321e",
        "colab": {
          "base_uri": "https://localhost:8080/",
          "height": 34
        }
      },
      "source": [
        "data = '20200511'\n",
        " \n",
        "year = data[0:4]\n",
        "month = data[4:6]\n",
        "day = data[6:8]\n",
        "\n",
        "print(year,month,day)"
      ],
      "execution_count": 0,
      "outputs": [
        {
          "output_type": "stream",
          "text": [
            "2020 05 11\n"
          ],
          "name": "stdout"
        }
      ]
    },
    {
      "cell_type": "markdown",
      "metadata": {
        "id": "VY362a-LB6Mk",
        "colab_type": "text"
      },
      "source": [
        "#### 04번 문제(for)"
      ]
    },
    {
      "cell_type": "code",
      "metadata": {
        "id": "ZlSzAwE5CAUf",
        "colab_type": "code",
        "colab": {}
      },
      "source": [
        "summary = 0\n",
        "\n",
        "for i in range(100):\n",
        "  summary += i\n",
        "\n",
        "  "
      ],
      "execution_count": 0,
      "outputs": []
    },
    {
      "cell_type": "markdown",
      "metadata": {
        "id": "xM7ES5vhCEKK",
        "colab_type": "text"
      },
      "source": [
        "#### 05번 문제(string reverse)"
      ]
    },
    {
      "cell_type": "code",
      "metadata": {
        "id": "pW2_ue_TCNom",
        "colab_type": "code",
        "outputId": "b82a6945-e7c5-4782-cd46-edf7b331afa9",
        "colab": {
          "base_uri": "https://localhost:8080/",
          "height": 34
        }
      },
      "source": [
        "hangul = '가나다라바마사'\n",
        "\n",
        "hangul[::-1]"
      ],
      "execution_count": 0,
      "outputs": [
        {
          "output_type": "execute_result",
          "data": {
            "text/plain": [
              "'사마바라다나가'"
            ]
          },
          "metadata": {
            "tags": []
          },
          "execution_count": 38
        }
      ]
    },
    {
      "cell_type": "markdown",
      "metadata": {
        "id": "53GeVdH-CSPG",
        "colab_type": "text"
      },
      "source": [
        "#### 06번 문제(str -> list -> int 변환)"
      ]
    },
    {
      "cell_type": "code",
      "metadata": {
        "id": "8F-05fSvCbct",
        "colab_type": "code",
        "colab": {}
      },
      "source": [
        "num= \"70 50 90 70\"\n",
        "\n",
        "for i in num:\n",
        "  sum(i)/len(i)"
      ],
      "execution_count": 0,
      "outputs": []
    },
    {
      "cell_type": "code",
      "metadata": {
        "id": "N977yWkbG2JM",
        "colab_type": "code",
        "colab": {
          "base_uri": "https://localhost:8080/",
          "height": 34
        },
        "outputId": "0603a63a-45ee-4109-f1fc-a55ada75a10a"
      },
      "source": [
        "num.split()"
      ],
      "execution_count": 11,
      "outputs": [
        {
          "output_type": "execute_result",
          "data": {
            "text/plain": [
              "['70', '50', '90', '70']"
            ]
          },
          "metadata": {
            "tags": []
          },
          "execution_count": 11
        }
      ]
    },
    {
      "cell_type": "markdown",
      "metadata": {
        "id": "2Z_xWtgdChxl",
        "colab_type": "text"
      },
      "source": [
        "#### 07번 문제(if문)"
      ]
    },
    {
      "cell_type": "code",
      "metadata": {
        "id": "3f1yG6awCl_4",
        "colab_type": "code",
        "outputId": "1f9247f7-26da-402c-ff64-ce8a455b4e14",
        "colab": {
          "base_uri": "https://localhost:8080/",
          "height": 52
        }
      },
      "source": [
        "n=int(input('숫자를 입력해주세요'))\n",
        "\n",
        "if(x%2==1):\n",
        "  print(\"짝수입니다.\")\n",
        "else:\n",
        "  print(\"짝수가 아닙니다.\")"
      ],
      "execution_count": 0,
      "outputs": [
        {
          "output_type": "stream",
          "text": [
            "숫자를 입력해주세요9\n",
            "짝수가 아닙니다.\n"
          ],
          "name": "stdout"
        }
      ]
    },
    {
      "cell_type": "markdown",
      "metadata": {
        "id": "qNji5eYyCqon",
        "colab_type": "text"
      },
      "source": [
        "#### 08번 문제(산술 연산 및 list index)"
      ]
    },
    {
      "cell_type": "code",
      "metadata": {
        "id": "adoLU_B3CxIF",
        "colab_type": "code",
        "colab": {}
      },
      "source": [
        ""
      ],
      "execution_count": 0,
      "outputs": []
    },
    {
      "cell_type": "markdown",
      "metadata": {
        "id": "Nr-qoWn2DDmM",
        "colab_type": "text"
      },
      "source": [
        "#### 09번 문제(소수 판별 프로그램)"
      ]
    },
    {
      "cell_type": "code",
      "metadata": {
        "id": "Q3jquj4NDJvS",
        "colab_type": "code",
        "colab": {}
      },
      "source": [
        "num_10 = int(input('숫자를 입력해주세요'))\n",
        "isprime = 'prime'\n",
        "\n",
        "for i in range(2,num_10):\n",
        "  if num_10 % i == 0:\n",
        "    isprime = '소수가 아닙니다'\n",
        "    break\n",
        "\n",
        "  print(isprime)"
      ],
      "execution_count": 0,
      "outputs": []
    },
    {
      "cell_type": "markdown",
      "metadata": {
        "id": "gGg-iN-7DLnb",
        "colab_type": "text"
      },
      "source": [
        "# 인공지능 수학 문제\n",
        "\n"
      ]
    },
    {
      "cell_type": "markdown",
      "metadata": {
        "id": "Egok0c6I0KlI",
        "colab_type": "text"
      },
      "source": [
        "#### *(1번 문제(hypothesis)*\n",
        "\n",
        "###### 다음 공식은 Hypothesis를 구하는 공식입니다. 다음과 같이 값이 주어졌을떄 H(x)의 값을 구하시오."
      ]
    },
    {
      "cell_type": "markdown",
      "metadata": {
        "id": "3_N2VoLd0LGd",
        "colab_type": "text"
      },
      "source": [
        "* w = 3\n",
        "* x = 10\n",
        "* b = 1"
      ]
    },
    {
      "cell_type": "markdown",
      "metadata": {
        "id": "gr39Kf4m0WG0",
        "colab_type": "text"
      },
      "source": [
        "# $$h(x) = Wx + b$$"
      ]
    },
    {
      "cell_type": "markdown",
      "metadata": {
        "id": "7Ike7fFZ0-vr",
        "colab_type": "text"
      },
      "source": [
        "#### 정답 : 31"
      ]
    },
    {
      "cell_type": "markdown",
      "metadata": {
        "id": "z8lKFb2o1D6H",
        "colab_type": "text"
      },
      "source": [
        "## 2번 문제 (Cost function)\n",
        "\n",
        "다음 공식은 Cost를 구하는 공식입니다. 다음과 같이 값이 주어졌을때 cost의 값을 구하세요.\n",
        "\n",
        "* W = 2\n",
        "* x = [2, 4, 8]\n",
        "* y = [5, 12, 21]\n",
        "\n",
        "(tip: x1=2, y1=5 / x2=4, y2=12 / x3=8, y3=21)"
      ]
    },
    {
      "cell_type": "markdown",
      "metadata": {
        "id": "tcSaecbD1HLb",
        "colab_type": "text"
      },
      "source": [
        "# $$cost(W) =  \\frac{1}{n}\\sum_{i=1}^n (Wx^{(i)}-y^{(i)})^2$$"
      ]
    },
    {
      "cell_type": "markdown",
      "metadata": {
        "id": "apgqaJc51KD1",
        "colab_type": "text"
      },
      "source": [
        "#### 정답 : 14"
      ]
    },
    {
      "cell_type": "markdown",
      "metadata": {
        "id": "np228BZ51Rfi",
        "colab_type": "text"
      },
      "source": [
        "## 3번 문제 (Logistic regression sigmoid function)\n",
        "\n",
        "다음 공식은 로지스틱 시그모이드 함수입니다. x가 __양의 무한대로__ 갈때 f(x)가 수렴하는 값을 구하세요.\n",
        "\n",
        "![대체 텍스트](https://prwatech.in/blog/wp-content/uploads/2020/02/logi3.png)"
      ]
    },
    {
      "cell_type": "markdown",
      "metadata": {
        "id": "n59tQfaN14Si",
        "colab_type": "text"
      },
      "source": [
        "#### 정답 : 0.5"
      ]
    }
  ]
}